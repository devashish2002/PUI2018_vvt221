{
 "cells": [
  {
   "cell_type": "code",
   "execution_count": 1,
   "metadata": {},
   "outputs": [],
   "source": [
    "from __future__ import print_function\n",
    "import os\n",
    "import sys\n",
    "import numpy as np\n"
   ]
  },
  {
   "cell_type": "code",
   "execution_count": 2,
   "metadata": {},
   "outputs": [
    {
     "name": "stdout",
     "output_type": "stream",
     "text": [
      "  % Total    % Received % Xferd  Average Speed   Time    Time     Time  Current\n",
      "                                 Dload  Upload   Total   Spent    Left  Speed\n",
      "100  1179  100  1179    0     0  11193      0 --:--:-- --:--:-- --:--:-- 11228\n"
     ]
    }
   ],
   "source": [
    "!curl https://raw.githubusercontent.com/fedhere/PUI2018_fb55/master/Lab4_fb55/times.txt > times.txt"
   ]
  },
  {
   "cell_type": "code",
   "execution_count": 3,
   "metadata": {},
   "outputs": [],
   "source": [
    "!mv times.txt $PUIDATA"
   ]
  },
  {
   "cell_type": "code",
   "execution_count": 4,
   "metadata": {},
   "outputs": [
    {
     "name": "stdout",
     "output_type": "stream",
     "text": [
      "PUIDATA /nfshome/vvt221/PUIdata\n"
     ]
    }
   ],
   "source": [
    "print(\"PUIDATA\" , os.getenv(\"PUIDATA\"))"
   ]
  },
  {
   "cell_type": "code",
   "execution_count": 5,
   "metadata": {},
   "outputs": [],
   "source": [
    "times = np.loadtxt(\"%s/times.txt\"%os.getenv(\"PUIDATA\"))\n"
   ]
  },
  {
   "cell_type": "markdown",
   "metadata": {},
   "source": [
    "## Null Hypothesis Description\n",
    "\n",
    " $H_{0}$ : The commute time is on average the same or longer with the new bus route as it was before:\n",
    "               $T_{new}$ >= $T_{old}$\n",
    
    " $H_{a}$ : The commute time is shorter with the new bus route than it was before: \n",
    "              $T_{new}$ < $T_{old}$"
   ]
  },
  {
   "cell_type": "code",
   "execution_count": 6,
   "metadata": {},
   "outputs": [
    {
     "name": "stdout",
     "output_type": "stream",
     "text": [
      "Population Parameters\n",
      "Population mean: 36\n",
      "Population standard deviation: 6\n"
     ]
    }
   ],
   "source": [
    "population_mean = 36\n",
    "population_std = 6\n",
    "alpha_level = 0.05\n",
    "print(\"Population Parameters\")\n",
    "print(\"Population mean: \"+ str(population_mean))\n",
    "print(\"Population standard deviation: \"+ str(population_std))"
   ]
  },
  {
   "cell_type": "code",
   "execution_count": 7,
   "metadata": {},
   "outputs": [
    {
     "name": "stdout",
     "output_type": "stream",
     "text": [
      "Sample Statistics\n",
      "Sample mean: 34.4661616883\n",
      "Sample standard deviation: 7.10150406819\n",
      "Sample Size: 100\n"
     ]
    }
   ],
   "source": [
    "sample_mean = times.mean()\n",
    "sample_std = times.std()\n",
    "sample_size = times.size\n",
    "print(\"Sample Statistics\")\n",
    "print(\"Sample mean: \"+ str(sample_mean))\n",
    "print(\"Sample standard deviation: \"+ str(sample_std))\n",
    "print(\"Sample Size: \"+ str(sample_size))"
   ]
  },
  {
   "cell_type": "code",
   "execution_count": 8,
   "metadata": {},
   "outputs": [],
   "source": [
    "def calculateZscore(population_mean, sample_mean, population_std, sample_size ):\n",
    "    return ((population_mean - sample_mean)/(population_std/(sample_size ** 0.5)))"
   ]
  },
  {
   "cell_type": "code",
   "execution_count": 9,
   "metadata": {},
   "outputs": [
    {
     "data": {
      "text/plain": [
       "2.5563971861666701"
      ]
     },
     "execution_count": 9,
     "metadata": {},
     "output_type": "execute_result"
    }
   ],
   "source": [
    "zscore = calculateZscore(population_mean, sample_mean, population_std, sample_size )\n",
    "zscore"
   ]
  },
  {
   "cell_type": "markdown",
   "metadata": {},
   "source": [
    "### Zscore of our confidence interval = 1.65"
   ]
  },
  {
   "cell_type": "markdown",
   "metadata": {},
   "source": [
    "### Following observerations have been made:\n",
    "###  Zscore of our sample > Zscore of our population interval\n",
    "### Since, Zscore = 2.556 , ie , more than 2 standard deviations \n",
    "### Thus, we reject the null hypothesis at the 0.05 significance level"
   ]
  },
  {
   "cell_type": "code",
   "execution_count": null,
   "metadata": {},
   "outputs": [],
   "source": []
  }
 ],
 "metadata": {
  "kernelspec": {
   "display_name": "PUI2016_Python2",
   "language": "python",
   "name": "pui2016_python2"
  },
  "language_info": {
   "codemirror_mode": {
    "name": "ipython",
    "version": 2
   },
   "file_extension": ".py",
   "mimetype": "text/x-python",
   "name": "python",
   "nbconvert_exporter": "python",
   "pygments_lexer": "ipython2",
   "version": "2.7.12"
  }
 },
 "nbformat": 4,
 "nbformat_minor": 2
}
